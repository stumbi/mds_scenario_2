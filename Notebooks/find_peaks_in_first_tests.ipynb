{
 "cells": [
  {
   "cell_type": "markdown",
   "id": "e2923375",
   "metadata": {
    "pycharm": {
     "name": "#%% md\n"
    }
   },
   "source": [
    "# Simple Notebook for Visualizing Accelerometer Data  of 10 Steps"
   ]
  },
  {
   "cell_type": "code",
   "execution_count": 1,
   "id": "bb59bd02",
   "metadata": {
    "pycharm": {
     "name": "#%%\n"
    }
   },
   "outputs": [],
   "source": [
    "import pandas as pd\n",
    "import numpy as np\n",
    "import plotly.graph_objects as go\n",
    "import sys\n",
    "sys.path.append('../')\n",
    "from Code.helpers import butter_lowpass_filter, helper_find_peaks"
   ]
  },
  {
   "cell_type": "markdown",
   "id": "f8ef6b6c",
   "metadata": {
    "pycharm": {
     "name": "#%% md\n"
    }
   },
   "source": [
    "## Read the Data"
   ]
  },
  {
   "cell_type": "code",
   "execution_count": null,
   "id": "95a726fe",
   "metadata": {
    "scrolled": true
   },
   "outputs": [],
   "source": [
    "df_acc = pd.read_csv('../Data/Data_Nils/MDS_Scenario_2_nils_1 2022-05-23 10-48-47/Accelerometer.csv')\n",
    "readings_np = df_acc.to_numpy()"
   ]
  },
  {
   "cell_type": "markdown",
   "id": "be16c622",
   "metadata": {
    "pycharm": {
     "name": "#%% md\n"
    }
   },
   "source": [
    "### Filter All Readings Besides the Time"
   ]
  },
  {
   "cell_type": "code",
   "execution_count": null,
   "id": "4a10ec2e",
   "metadata": {},
   "outputs": [],
   "source": [
    "filtered_readings_np = np.apply_along_axis(butter_lowpass_filter, 0, readings_np[:, 1:])"
   ]
  },
  {
   "cell_type": "code",
   "execution_count": null,
   "id": "811486a0",
   "metadata": {},
   "outputs": [],
   "source": [
    "filtered_readings_np = np.c_[readings_np[:, 0], filtered_readings_np]"
   ]
  },
  {
   "cell_type": "markdown",
   "id": "502f3b43",
   "metadata": {
    "pycharm": {
     "name": "#%% md\n"
    }
   },
   "source": [
    "## Plot the Filtered Data"
   ]
  },
  {
   "cell_type": "code",
   "execution_count": null,
   "id": "3f747bd1",
   "metadata": {},
   "outputs": [],
   "source": [
    "# Filter the data, and plot both the original and filtered signals.\n",
    "fig = go.Figure()\n",
    "\n",
    "fig.add_trace(go.Scatter(\n",
    "            x = filtered_readings_np[:, 0],\n",
    "            y = filtered_readings_np[:, 1],\n",
    "            line =  dict(shape =  'spline' ),\n",
    "            name = 'x signal')\n",
    "            )\n",
    "fig.add_trace(go.Scatter(\n",
    "            x = filtered_readings_np[:, 0],\n",
    "            y = filtered_readings_np[:, 2],\n",
    "            line =  dict(shape =  'spline' ),\n",
    "            name = 'y signal')\n",
    "            )\n",
    "fig.add_trace(go.Scatter(\n",
    "            x = filtered_readings_np[:, 0],\n",
    "            y = filtered_readings_np[:, 3],\n",
    "            line =  dict(shape =  'spline' ),\n",
    "            name = 'z signal')\n",
    "            )\n",
    "\n",
    "fig.show()"
   ]
  },
  {
   "cell_type": "markdown",
   "id": "68e15ce4",
   "metadata": {
    "pycharm": {
     "name": "#%% md\n"
    }
   },
   "source": [
    "## Push Mean of Data to 0"
   ]
  },
  {
   "cell_type": "code",
   "execution_count": null,
   "id": "68caef07",
   "metadata": {
    "pycharm": {
     "name": "#%%\n"
    }
   },
   "outputs": [],
   "source": [
    "pushed_filtered_readings_np = filtered_readings_np - filtered_readings_np.mean(axis=0, keepdims=True)"
   ]
  },
  {
   "cell_type": "markdown",
   "id": "f89c52ef",
   "metadata": {},
   "source": [
    "## Find the peaks"
   ]
  },
  {
   "cell_type": "code",
   "execution_count": null,
   "id": "20003623",
   "metadata": {
    "pycharm": {
     "name": "#%%\n"
    }
   },
   "outputs": [],
   "source": [
    "# find peaks in absolute acceleration -> resulting in steps\n",
    "peaks = []\n",
    "columns = [\"x\", \"y\", \"z\"]\n",
    "for i in range(1, 4):\n",
    "    peaks.append(helper_find_peaks(pushed_filtered_readings_np[:, i]))\n",
    "\n",
    "for i in range(3):\n",
    "    print('Number of peaks in column', columns[i], ':', len(peaks[i]))"
   ]
  },
  {
   "cell_type": "markdown",
   "id": "bfee1ed4",
   "metadata": {
    "pycharm": {
     "name": "#%% md\n"
    }
   },
   "source": [
    "## Show Peaks In Z-Axis"
   ]
  },
  {
   "cell_type": "code",
   "execution_count": null,
   "id": "f439cec1",
   "metadata": {
    "pycharm": {
     "name": "#%%\n"
    }
   },
   "outputs": [],
   "source": [
    "pushed_filtered_df = pd.DataFrame(pushed_filtered_readings_np, columns=['time', 'x', 'y', 'z'])"
   ]
  },
  {
   "cell_type": "code",
   "execution_count": null,
   "id": "06f1adf5",
   "metadata": {
    "pycharm": {
     "name": "#%%\n"
    }
   },
   "outputs": [],
   "source": [
    "fig = go.Figure()\n",
    "\n",
    "fig.add_trace(go.Scatter(\n",
    "            y = pushed_filtered_df['x'],\n",
    "            line =  dict(shape =  'spline' ),\n",
    "            name = 'x signal')\n",
    "            )\n",
    "fig.add_trace(go.Scatter(\n",
    "            x = peaks[0],\n",
    "            y = pushed_filtered_df.loc[peaks[0]]['x'],\n",
    "            mode =  'markers',\n",
    "            name = 'x peaks')\n",
    "            )\n",
    "\n",
    "fig.add_trace(go.Scatter(\n",
    "            y = pushed_filtered_df['y'],\n",
    "            line =  dict(shape =  'spline' ),\n",
    "            name = 'y signal')\n",
    "            )\n",
    "fig.add_trace(go.Scatter(\n",
    "            x = peaks[1],\n",
    "            y = pushed_filtered_df.loc[peaks[1]]['y'],\n",
    "            mode =  'markers',\n",
    "            name = 'y peaks')\n",
    "            )\n",
    "\n",
    "fig.add_trace(go.Scatter(\n",
    "            y = pushed_filtered_df['z'],\n",
    "            line =  dict(shape =  'spline' ),\n",
    "            name = 'z signal')\n",
    "            )\n",
    "fig.add_trace(go.Scatter(\n",
    "            x = peaks[2],\n",
    "            y = pushed_filtered_df.loc[peaks[2]]['z'],\n",
    "            mode =  'markers',\n",
    "            name = 'z peaks')\n",
    "            )"
   ]
  }
 ],
 "metadata": {
  "kernelspec": {
   "display_name": "Python 3 (ipykernel)",
   "language": "python",
   "name": "python3"
  },
  "language_info": {
   "codemirror_mode": {
    "name": "ipython",
    "version": 3
   },
   "file_extension": ".py",
   "mimetype": "text/x-python",
   "name": "python",
   "nbconvert_exporter": "python",
   "pygments_lexer": "ipython3",
   "version": "3.9.7"
  }
 },
 "nbformat": 4,
 "nbformat_minor": 5
}
